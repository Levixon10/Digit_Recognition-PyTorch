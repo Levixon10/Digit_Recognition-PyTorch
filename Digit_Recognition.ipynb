{
  "nbformat": 4,
  "nbformat_minor": 0,
  "metadata": {
    "colab": {
      "provenance": [],
      "authorship_tag": "ABX9TyNvMDt3IsgZumaEkzTSgWOG"
    },
    "kernelspec": {
      "name": "python3",
      "display_name": "Python 3"
    },
    "language_info": {
      "name": "python"
    }
  },
  "cells": [
    {
      "cell_type": "code",
      "execution_count": 15,
      "metadata": {
        "id": "qXs44L2ttwzk"
      },
      "outputs": [],
      "source": [
        "#importing important libraries\n",
        "import torch\n",
        "import torch.nn as nn\n",
        "import numpy as np\n",
        "import torchvision\n",
        "import torchvision.transforms as tranforms\n",
        "import matplotlib.pyplot as plt"
      ]
    },
    {
      "cell_type": "code",
      "source": [
        "#defining important parameters\n",
        "input_size=784 #28x28\n",
        "hidden_size=100\n",
        "num_classes=10 # 0 to 9\n",
        "num_epochs=2\n",
        "batch_size=100\n",
        "learning_rate=0.001"
      ],
      "metadata": {
        "id": "EOT7XRNTu0Ar"
      },
      "execution_count": 16,
      "outputs": []
    },
    {
      "cell_type": "code",
      "source": [
        "#MNIST\n",
        "train_dataset=torchvision.datasets.MNIST(root='./data',train=True,transform=tranforms.ToTensor(),download=True)\n",
        "test_dataset=torchvision.datasets.MNIST(root='./data',train=False,transform=tranforms.ToTensor(),download=True)\n",
        "train_loader=torch.utils.data.DataLoader(dataset=train_dataset,batch_size=batch_size,shuffle=True)\n",
        "test_loader=torch.utils.data.DataLoader(dataset=test_dataset,batch_size=batch_size,shuffle=False)\n",
        "\n",
        "examples=iter(train_loader)\n",
        "sample,labels=next(examples)\n",
        "print(sample.shape,\"\\n\",labels.shape)"
      ],
      "metadata": {
        "colab": {
          "base_uri": "https://localhost:8080/"
        },
        "id": "Xz3hoCzoyNXo",
        "outputId": "81500ad4-481e-4ded-aa19-c24e0cb6fd6d"
      },
      "execution_count": 17,
      "outputs": [
        {
          "output_type": "stream",
          "name": "stdout",
          "text": [
            "torch.Size([100, 1, 28, 28]) \n",
            " torch.Size([100])\n"
          ]
        }
      ]
    },
    {
      "cell_type": "code",
      "source": [
        "#to see some images\n",
        "for i in range(10):\n",
        "  plt.subplot(2,5,i+1)\n",
        "  plt.imshow(sample[i][0], cmap=\"gray\")\n",
        "plt.show()"
      ],
      "metadata": {
        "colab": {
          "base_uri": "https://localhost:8080/",
          "height": 351
        },
        "id": "yZTO607m2D7J",
        "outputId": "917b8932-5777-43d8-fdf1-ebdf9e54ed5e"
      },
      "execution_count": 18,
      "outputs": [
        {
          "output_type": "display_data",
          "data": {
            "text/plain": [
              "<Figure size 640x480 with 10 Axes>"
            ],
            "image/png": "[encoded data removed]"
          },
          "metadata": {}
        }
      ]
    },
    {
      "cell_type": "code",
      "source": [
        "# defining the neural network\n",
        "class NeuralNet(nn.Module):\n",
        "    def __init__(self, input_size, hidden_size, num_classes):\n",
        "        super(NeuralNet, self).__init__()\n",
        "        self.linear1 = nn.Linear(input_size, hidden_size)\n",
        "        self.relu = nn.ReLU()\n",
        "        self.linear2 = nn.Linear(hidden_size, num_classes)\n",
        "\n",
        "    def forward(self, x):\n",
        "        out = self.linear1(x)\n",
        "        out = self.relu(out)\n",
        "        out = self.linear2(out)\n",
        "        return out\n",
        "\n",
        "\n",
        "model = NeuralNet(input_size, hidden_size, num_classes)"
      ],
      "metadata": {
        "id": "_9qkU1Yl3nAC"
      },
      "execution_count": 19,
      "outputs": []
    },
    {
      "cell_type": "code",
      "source": [
        "#loss and optimizer\n",
        "criteria=nn.CrossEntropyLoss()\n",
        "optimizer=torch.optim.Adam(model.parameters(),lr=learning_rate)"
      ],
      "metadata": {
        "id": "2gZD7fxn5_Yu"
      },
      "execution_count": 20,
      "outputs": []
    },
    {
      "cell_type": "code",
      "source": [
        "#training\n",
        "n_total_steps=len(train_loader)\n",
        "\n",
        "for epochs in range(num_epochs):\n",
        "  for i,(images,labels) in enumerate(train_loader):\n",
        "    images=images.reshape(-1,28*28)\n",
        "\n",
        "    #forward pass\n",
        "    outputs=model(images)\n",
        "    loss=criteria(outputs,labels)\n",
        "\n",
        "    #backward pass\n",
        "    loss.backward()\n",
        "    optimizer.step()\n",
        "    optimizer.zero_grad()\n",
        "\n",
        "    if((i+1)%100==0):\n",
        "      print(f\"epoch {epochs+1}/{num_epochs},step {i+1}/{n_total_steps},loss={loss.item():.4f}\")"
      ],
      "metadata": {
        "colab": {
          "base_uri": "https://localhost:8080/"
        },
        "id": "7yQeZ3wO677i",
        "outputId": "531a11f1-cf25-46b9-a319-facb7ce7d78b"
      },
      "execution_count": 21,
      "outputs": [
        {
          "output_type": "stream",
          "name": "stdout",
          "text": [
            "epoch 1/2,step 100/600,loss=0.5250\n",
            "epoch 1/2,step 200/600,loss=0.3493\n",
            "epoch 1/2,step 300/600,loss=0.3152\n",
            "epoch 1/2,step 400/600,loss=0.5008\n",
            "epoch 1/2,step 500/600,loss=0.3042\n",
            "epoch 1/2,step 600/600,loss=0.2846\n",
            "epoch 2/2,step 100/600,loss=0.1696\n",
            "epoch 2/2,step 200/600,loss=0.1835\n",
            "epoch 2/2,step 300/600,loss=0.1853\n",
            "epoch 2/2,step 400/600,loss=0.1276\n",
            "epoch 2/2,step 500/600,loss=0.1066\n",
            "epoch 2/2,step 600/600,loss=0.1342\n"
          ]
        }
      ]
    },
    {
      "cell_type": "code",
      "source": [
        "#testing\n",
        "with torch.no_grad():\n",
        "  n_correct=0\n",
        "  n_samples=0\n",
        "  for images,labels in (test_loader):\n",
        "    images=images.reshape(-1,28*28)\n",
        "    outputs=model(images)\n",
        "\n",
        "    _, predictions=torch.max(outputs,1)\n",
        "    n_samples+=labels.shape[0]\n",
        "    n_correct+=(predictions==labels).sum().item()\n",
        "\n",
        "  acc=100.0*n_correct/n_samples\n",
        "  print(f\"accuracy={acc}\")\n"
      ],
      "metadata": {
        "colab": {
          "base_uri": "https://localhost:8080/"
        },
        "id": "YXJ8vSdu8Z2l",
        "outputId": "3b5bf304-cc42-49b0-9704-2caf063b2843"
      },
      "execution_count": 22,
      "outputs": [
        {
          "output_type": "stream",
          "name": "stdout",
          "text": [
            "accuracy=95.28\n"
          ]
        }
      ]
    }
  ]
}